{
 "cells": [
  {
   "cell_type": "markdown",
   "metadata": {},
   "source": [
    "***\n",
    "\n",
    "**GDELT MongoDB**\n",
    "\n",
    "***\n",
    "\n",
    "Note: Syntax can be easily transitioned to Spark DataFrame.\n",
    "\n",
    "We will do create 2 MongoDB collections:\n",
    "\n",
    "- `gdelt_2019_mentions`: Mention tables merged with Events tables\n",
    "- `gdelt_2019_events`: GKG tables but with string pseudo-lists transformed to lists"
   ]
  },
  {
   "cell_type": "code",
   "execution_count": 1,
   "metadata": {},
   "outputs": [],
   "source": [
    "import numpy as np\n",
    "import matplotlib.pyplot as plt\n",
    "import pandas as pd\n",
    "import pymongo as mb\n",
    "plt.style.use('fivethirtyeight')\n",
    "from pprint import pprint"
   ]
  },
  {
   "cell_type": "markdown",
   "metadata": {},
   "source": [
    "# 1. GDELT Data Preprocessing with Pandas\n",
    "\n",
    "**TODO in Spark with Scala**\n",
    "\n",
    "1. gdelt_events:\n",
    "    - Checks on variable types\n",
    "2. gdelt_mentions:\n",
    "    - Reduce DataFrame to 2 columns *GLOBALEVENTID* (for merge with gdelt_events) and *mentions* (the rest)\n",
    "    - Checks on variable types\n",
    "    - Create column for language of article / mention\n",
    "3. gdelt_gkg:\n",
    "    - Transfomring columns with poorly formated lists into dictionnaries\n",
    "    - Checks on variable types"
   ]
  },
  {
   "cell_type": "code",
   "execution_count": 2,
   "metadata": {},
   "outputs": [
    {
     "name": "stderr",
     "output_type": "stream",
     "text": [
      "c:\\anaconda\\lib\\site-packages\\IPython\\core\\interactiveshell.py:2728: DtypeWarning: Columns (15) have mixed types. Specify dtype option on import or set low_memory=False.\n",
      "  interactivity=interactivity, compiler=compiler, result=result)\n",
      "c:\\anaconda\\lib\\site-packages\\IPython\\core\\interactiveshell.py:2728: DtypeWarning: Columns (23) have mixed types. Specify dtype option on import or set low_memory=False.\n",
      "  interactivity=interactivity, compiler=compiler, result=result)\n"
     ]
    }
   ],
   "source": [
    "gdelt_events = pd.read_csv('test_local_gdelt_events.csv', index_col=0)\n",
    "gdelt_mentions = pd.read_csv('test_local_gdelt_mentions.csv', index_col=0)\n",
    "gdelt_gkg = pd.read_csv('test_local_gdelt_gkg.csv', index_col=0)"
   ]
  },
  {
   "cell_type": "code",
   "execution_count": 3,
   "metadata": {},
   "outputs": [],
   "source": [
    "try:\n",
    "    gdelt_mentions = gdelt_mentions.drop(['MentionDocOriginalLanguage'], axis=1)\n",
    "except:\n",
    "    pass"
   ]
  },
  {
   "cell_type": "markdown",
   "metadata": {},
   "source": [
    "## 1.1. GDELT Events"
   ]
  },
  {
   "cell_type": "code",
   "execution_count": 4,
   "metadata": {},
   "outputs": [
    {
     "name": "stdout",
     "output_type": "stream",
     "text": [
      "Wall time: 4.77 s\n"
     ]
    },
    {
     "name": "stderr",
     "output_type": "stream",
     "text": [
      "c:\\anaconda\\lib\\site-packages\\ipykernel_launcher.py:7: SettingWithCopyWarning: \n",
      "A value is trying to be set on a copy of a slice from a DataFrame.\n",
      "Try using .loc[row_indexer,col_indexer] = value instead\n",
      "\n",
      "See the caveats in the documentation: http://pandas.pydata.org/pandas-docs/stable/indexing.html#indexing-view-versus-copy\n",
      "  import sys\n"
     ]
    }
   ],
   "source": [
    "%%time\n",
    "# GDELT Events\n",
    "gdelt_events_preprocessed_1 = gdelt_events.copy()\n",
    "gdelt_events_preprocessed_1['ActionGeo_CountryCode'] = gdelt_events_preprocessed_1['ActionGeo_CountryCode'].fillna('unknown')\n",
    "gdelt_events_preprocessed_1 = gdelt_events_preprocessed_1.fillna('')\n",
    "\n",
    "gdelt_events_preprocessed_2 = gdelt_events_preprocessed_1[['GLOBALEVENTID']]\n",
    "gdelt_events_preprocessed_2['events'] = gdelt_events_preprocessed_1 \\\n",
    "                                                .drop('GLOBALEVENTID', axis=1) \\\n",
    "                                                .to_dict(orient='records')\n",
    "\n",
    "# Prepare Adequate Format for merge with GDELT Mentions\n",
    "# gdelt_events_preprocessed_2 = gdelt_events_preprocessed_2.to_dict('records')\n",
    "# pprint(gdelt_events_preprocessed_2[0])"
   ]
  },
  {
   "cell_type": "code",
   "execution_count": 5,
   "metadata": {},
   "outputs": [
    {
     "data": {
      "text/html": [
       "<div>\n",
       "<style scoped>\n",
       "    .dataframe tbody tr th:only-of-type {\n",
       "        vertical-align: middle;\n",
       "    }\n",
       "\n",
       "    .dataframe tbody tr th {\n",
       "        vertical-align: top;\n",
       "    }\n",
       "\n",
       "    .dataframe thead th {\n",
       "        text-align: right;\n",
       "    }\n",
       "</style>\n",
       "<table border=\"1\" class=\"dataframe\">\n",
       "  <thead>\n",
       "    <tr style=\"text-align: right;\">\n",
       "      <th></th>\n",
       "      <th>GLOBALEVENTID</th>\n",
       "      <th>events</th>\n",
       "    </tr>\n",
       "  </thead>\n",
       "  <tbody>\n",
       "    <tr>\n",
       "      <th>0</th>\n",
       "      <td>410412347</td>\n",
       "      <td>{'SQLDATE': 20140218, 'MonthYear': 201402, 'Ye...</td>\n",
       "    </tr>\n",
       "    <tr>\n",
       "      <th>1</th>\n",
       "      <td>410412348</td>\n",
       "      <td>{'SQLDATE': 20140218, 'MonthYear': 201402, 'Ye...</td>\n",
       "    </tr>\n",
       "    <tr>\n",
       "      <th>2</th>\n",
       "      <td>410412349</td>\n",
       "      <td>{'SQLDATE': 20140218, 'MonthYear': 201402, 'Ye...</td>\n",
       "    </tr>\n",
       "    <tr>\n",
       "      <th>3</th>\n",
       "      <td>410412350</td>\n",
       "      <td>{'SQLDATE': 20140218, 'MonthYear': 201402, 'Ye...</td>\n",
       "    </tr>\n",
       "    <tr>\n",
       "      <th>4</th>\n",
       "      <td>410412351</td>\n",
       "      <td>{'SQLDATE': 20140218, 'MonthYear': 201402, 'Ye...</td>\n",
       "    </tr>\n",
       "  </tbody>\n",
       "</table>\n",
       "</div>"
      ],
      "text/plain": [
       "   GLOBALEVENTID                                             events\n",
       "0      410412347  {'SQLDATE': 20140218, 'MonthYear': 201402, 'Ye...\n",
       "1      410412348  {'SQLDATE': 20140218, 'MonthYear': 201402, 'Ye...\n",
       "2      410412349  {'SQLDATE': 20140218, 'MonthYear': 201402, 'Ye...\n",
       "3      410412350  {'SQLDATE': 20140218, 'MonthYear': 201402, 'Ye...\n",
       "4      410412351  {'SQLDATE': 20140218, 'MonthYear': 201402, 'Ye..."
      ]
     },
     "execution_count": 5,
     "metadata": {},
     "output_type": "execute_result"
    }
   ],
   "source": [
    "gdelt_events_preprocessed_2.head()"
   ]
  },
  {
   "cell_type": "markdown",
   "metadata": {},
   "source": [
    "## 1.2. GDELT Mentions"
   ]
  },
  {
   "cell_type": "code",
   "execution_count": 6,
   "metadata": {},
   "outputs": [],
   "source": [
    "def get_article_mention_language(translateInfo):\n",
    "    if translateInfo=='':\n",
    "        language = 'eng'\n",
    "    else:\n",
    "        language = translateInfo.split(';', 1)[0][-3:]\n",
    "    return language\n",
    "\n",
    "gdelt_mentions['MentionDocTranslationInfo'] = gdelt_mentions['MentionDocTranslationInfo'].fillna('')\n",
    "\n",
    "gdelt_mentions['MentionDocOriginalLanguage'] = \\\n",
    "                    gdelt_mentions['MentionDocTranslationInfo'].apply(lambda x: get_article_mention_language(x))"
   ]
  },
  {
   "cell_type": "code",
   "execution_count": 7,
   "metadata": {},
   "outputs": [],
   "source": [
    "# gdelt_mentions['MentionDocOriginalLanguage'].value_counts()"
   ]
  },
  {
   "cell_type": "code",
   "execution_count": 8,
   "metadata": {},
   "outputs": [],
   "source": [
    "gdelt_mentions_preprocessed = gdelt_mentions.merge(gdelt_events_preprocessed_2, on='GLOBALEVENTID', how='left')"
   ]
  },
  {
   "cell_type": "code",
   "execution_count": 9,
   "metadata": {},
   "outputs": [
    {
     "name": "stdout",
     "output_type": "stream",
     "text": [
      "(76937, 17)\n",
      "(76937, 18)\n"
     ]
    }
   ],
   "source": [
    "print(gdelt_mentions.shape)\n",
    "print(gdelt_mentions_preprocessed.shape)"
   ]
  },
  {
   "cell_type": "code",
   "execution_count": 10,
   "metadata": {},
   "outputs": [
    {
     "data": {
      "text/html": [
       "<div>\n",
       "<style scoped>\n",
       "    .dataframe tbody tr th:only-of-type {\n",
       "        vertical-align: middle;\n",
       "    }\n",
       "\n",
       "    .dataframe tbody tr th {\n",
       "        vertical-align: top;\n",
       "    }\n",
       "\n",
       "    .dataframe thead th {\n",
       "        text-align: right;\n",
       "    }\n",
       "</style>\n",
       "<table border=\"1\" class=\"dataframe\">\n",
       "  <thead>\n",
       "    <tr style=\"text-align: right;\">\n",
       "      <th></th>\n",
       "      <th>GLOBALEVENTID</th>\n",
       "      <th>MentionDocOriginalLanguage</th>\n",
       "      <th>events</th>\n",
       "    </tr>\n",
       "  </thead>\n",
       "  <tbody>\n",
       "    <tr>\n",
       "      <th>0</th>\n",
       "      <td>410412347</td>\n",
       "      <td>eng</td>\n",
       "      <td>{'SQLDATE': 20140218, 'MonthYear': 201402, 'Ye...</td>\n",
       "    </tr>\n",
       "    <tr>\n",
       "      <th>1</th>\n",
       "      <td>410412348</td>\n",
       "      <td>eng</td>\n",
       "      <td>{'SQLDATE': 20140218, 'MonthYear': 201402, 'Ye...</td>\n",
       "    </tr>\n",
       "    <tr>\n",
       "      <th>2</th>\n",
       "      <td>410412349</td>\n",
       "      <td>eng</td>\n",
       "      <td>{'SQLDATE': 20140218, 'MonthYear': 201402, 'Ye...</td>\n",
       "    </tr>\n",
       "    <tr>\n",
       "      <th>3</th>\n",
       "      <td>410412350</td>\n",
       "      <td>eng</td>\n",
       "      <td>{'SQLDATE': 20140218, 'MonthYear': 201402, 'Ye...</td>\n",
       "    </tr>\n",
       "    <tr>\n",
       "      <th>4</th>\n",
       "      <td>410412351</td>\n",
       "      <td>eng</td>\n",
       "      <td>{'SQLDATE': 20140218, 'MonthYear': 201402, 'Ye...</td>\n",
       "    </tr>\n",
       "  </tbody>\n",
       "</table>\n",
       "</div>"
      ],
      "text/plain": [
       "   GLOBALEVENTID MentionDocOriginalLanguage  \\\n",
       "0      410412347                        eng   \n",
       "1      410412348                        eng   \n",
       "2      410412349                        eng   \n",
       "3      410412350                        eng   \n",
       "4      410412351                        eng   \n",
       "\n",
       "                                              events  \n",
       "0  {'SQLDATE': 20140218, 'MonthYear': 201402, 'Ye...  \n",
       "1  {'SQLDATE': 20140218, 'MonthYear': 201402, 'Ye...  \n",
       "2  {'SQLDATE': 20140218, 'MonthYear': 201402, 'Ye...  \n",
       "3  {'SQLDATE': 20140218, 'MonthYear': 201402, 'Ye...  \n",
       "4  {'SQLDATE': 20140218, 'MonthYear': 201402, 'Ye...  "
      ]
     },
     "execution_count": 10,
     "metadata": {},
     "output_type": "execute_result"
    }
   ],
   "source": [
    "# gdelt_mentions_processed_bis = gdelt_mentions_processed.groupby('GLOBALEVENTID')['mentions'].apply(list)\n",
    "# gdelt_mentions_processed_bis = gdelt_mentions_processed_bis.reset_index()\n",
    "gdelt_mentions_preprocessed[['GLOBALEVENTID', 'MentionDocOriginalLanguage', 'events']].head()"
   ]
  },
  {
   "cell_type": "code",
   "execution_count": 11,
   "metadata": {},
   "outputs": [
    {
     "data": {
      "text/plain": [
       "['Channel One,628',\n",
       " 'Channel One,755',\n",
       " 'Channel One,1449',\n",
       " 'Channel One,1672',\n",
       " 'Gen Aleksandr Lentsov,1994',\n",
       " 'Eduard Basuryn,2123',\n",
       " 'Ukrainian President Petro Poroshenko,2410',\n",
       " 'Sergey Mikheyev,2552',\n",
       " 'Hungarian Prime Minister Viktor Orban,2877',\n",
       " 'Deputy Prime Minister Arkadiy Dvorkovich,3603',\n",
       " 'Deputy Prime Minister Dvorkovich,3985',\n",
       " 'Channel One,4835']"
      ]
     },
     "execution_count": 11,
     "metadata": {},
     "output_type": "execute_result"
    }
   ],
   "source": [
    "gdelt_gkg.transpose().iloc[:,0].to_dict()['AllNames'].split(';')"
   ]
  },
  {
   "cell_type": "markdown",
   "metadata": {},
   "source": [
    "## 1.3. GDELT GKG\n",
    "\n",
    "Columns to format from string to list :\n",
    "\n",
    "- AllNames (;)\n",
    "- Amounts (;)\n",
    "- Counts (;)\n",
    "- GCAM (,)\n",
    "- Locations (;)\n",
    "- Organizations (;)\n",
    "- Persons (;)\n",
    "- Quotations (;)\n",
    "- Related Images\n",
    "- Themes (;)\n",
    "- V2Counts (;)\n",
    "- **V2Locations** (;)\n",
    "- V2Organizations (;)\n",
    "- V2Persons (;)\n",
    "- **V2Themes** (;)\n",
    "- **V2Tone** (,)"
   ]
  },
  {
   "cell_type": "markdown",
   "metadata": {},
   "source": [
    "\n",
    "In particular:\n",
    "\n",
    "- **V2TONE**: (comma-delimited floating point numbers) This field contains a comma-delimited\n",
    "list of six core emotional dimensions, described in more detail below. Each is recorded as a\n",
    "single precision floating point number. This field is nearly identical in format and population as\n",
    "the corresponding field in the GKG 1.0 format with the sole exception of adding the single new\n",
    "WordCount variable at the end.\n",
    "\n",
    "    1. **Tone**. (floating point number) This is the average “tone” of the document as a whole.\n",
    "The score ranges from -100 (extremely negative) to +100 (extremely positive). Common\n",
    "values range between -10 and +10, with 0 indicating neutral. This is calculated as\n",
    "Positive Score minus Negative Score.\n",
    "    2. **Positive Score**. (floating point number) This is the percentage of all words in the article\n",
    "that were found to have a positive emotional connotation. Ranges from 0 to +100.\n",
    "    3. **Negative Score**\n",
    "    4. **Polarity**. (floating point number) This is the percentage of words that had matches in\n",
    "the tonal dictionary as an indicator of how emotionally polarized or charged the text is.\n",
    "If Polarity is high, but Tone is neutral, this suggests the text was highly emotionally\n",
    "charged, but had roughly equivalent numbers of positively and negatively charged\n",
    "emotional words.\n",
    "    5. **Activity Reference Density**. (floating point number) This is the percentage of words\n",
    "that were active words offering a very basic proxy of the overall “activeness” of the text\n",
    "compared with a clinically descriptive text.\n",
    "    6. **Self/Group Reference Density**. (floating point number) This is the percentage of all\n",
    "words in the article that are pronouns, capturing a combination of self-references and\n",
    "group-based discourse. News media material tends to have very low densities of such\n",
    "language, but this can be used to distinguish certain classes of news media and certain\n",
    "contexts."
   ]
  },
  {
   "cell_type": "markdown",
   "metadata": {},
   "source": [
    "- **Locations**: In cases where it is necessary to collapse by feature, the Geo_FeatureID column should be used, rather than the Geo_Fullname column. This is because the Geo_Fullname column captures the name of the location as expressed in the text and thus reflects differences in transliteration, alternative spellings, and alternative names for the same location. For example, Mecca is often spelled Makkah, while Jeddah is commonly spelled Jiddah or Jaddah. The Geo_Fullname column will reflect each of these different spellings, while the Geo_FeatureID column will resolve them all to the same unique GNS or GNIS feature identification number.\n",
    "\n",
    "    1. **Location Type**\n",
    "    2. **Location Fullname**\n",
    "    3. **Location Country Code**\n",
    "    4. **Location ADM1Code**\n",
    "    5. **Location Latitude**\n",
    "    6. **Location Longitude**\n",
    "    7. **Location FeatureID** (text OR signed integer). This is the numeric GNS or GNIS FeatureID for this location OR a textual country or ADM1 code).\n",
    "    \n",
    "Example:\n",
    "```python\n",
    "['4',\n",
    " 'Budapest, Budapest, Hungary',\n",
    " 'RS',\n",
    " 'HU05',\n",
    " '47.5',\n",
    " '19.0833',\n",
    " '-850553']\n",
    "```"
   ]
  },
  {
   "cell_type": "code",
   "execution_count": 12,
   "metadata": {},
   "outputs": [
    {
     "data": {
      "text/plain": [
       "['TERROR', 'REBELS', 'TAX_ETHNICITY', 'TAX_ETHNICITY_UKRAINE']"
      ]
     },
     "execution_count": 12,
     "metadata": {},
     "output_type": "execute_result"
    }
   ],
   "source": [
    "'TERROR;REBELS;TAX_ETHNICITY;TAX_ETHNICITY_UKRAINE'.split(';')"
   ]
  },
  {
   "cell_type": "code",
   "execution_count": 13,
   "metadata": {},
   "outputs": [],
   "source": [
    "gdelt_gkg_preprocessed = gdelt_gkg.fillna('')"
   ]
  },
  {
   "cell_type": "code",
   "execution_count": 14,
   "metadata": {},
   "outputs": [
    {
     "data": {
      "text/plain": [
       "Index(['GKGRECORDID', 'DATE', 'SourceCollectionIdentifier', 'SourceCommonName',\n",
       "       'DocumentIdentifier', 'Counts', 'V2Counts', 'Themes', 'V2Themes',\n",
       "       'Locations', 'V2Locations', 'Persons', 'V2Persons', 'Organizations',\n",
       "       'V2Organizations', 'V2Tone', 'Dates', 'GCAM', 'SharingImage',\n",
       "       'RelatedImages', 'SocialImageEmbeds', 'SocialVideoEmbeds', 'Quotations',\n",
       "       'AllNames', 'Amounts', 'TranslationInfo', 'Extras'],\n",
       "      dtype='object')"
      ]
     },
     "execution_count": 14,
     "metadata": {},
     "output_type": "execute_result"
    }
   ],
   "source": [
    "gdelt_gkg_preprocessed.columns"
   ]
  },
  {
   "cell_type": "code",
   "execution_count": 15,
   "metadata": {},
   "outputs": [],
   "source": [
    "split_with_semicolon = ['AllNames', 'Amounts', 'Counts', 'Locations',\n",
    "                        'Organizations', 'Persons', 'Quotations',\n",
    "                        'RelatedImages', 'Themes', 'V2Counts',\n",
    "                        'V2Locations', 'V2Organizations', 'V2Persons',\n",
    "                        'V2Themes']\n",
    "\n",
    "# for key_name in sorted(split_with_semicolon):\n",
    "#     print(key_name)\n",
    "#     print(gdelt_gkg_preprocessed.head(1)[key_name], '\\n')\n",
    "#     #row[key_name] = row[key_name].split(';')"
   ]
  },
  {
   "cell_type": "code",
   "execution_count": 16,
   "metadata": {},
   "outputs": [],
   "source": [
    "def preprocess_gdelt_gkg_rows(row):\n",
    "    \"\"\" AAA \"\"\"\n",
    "    # Split String Lists\n",
    "    split_with_semicolon = ['AllNames', 'Amounts', 'Counts', 'Locations',\n",
    "                            'Organizations', 'Persons', 'Quotations',\n",
    "                            'RelatedImages', 'Themes', 'V2Counts',\n",
    "                            'V2Locations', 'V2Organizations', 'V2Persons',\n",
    "                            'V2Themes']\n",
    "    \n",
    "    split_with_comma = ['GCAM', 'V2Tone']\n",
    "    \n",
    "    # General Splits\n",
    "    for key_name in split_with_semicolon:\n",
    "        # Transform string into list\n",
    "        row[key_name] = row[key_name].split(';')\n",
    "        \n",
    "        # Remove elements with empty strings\n",
    "        row[key_name] = [el for el in row[key_name] if el != '']\n",
    "    \n",
    "    for key_name in split_with_comma:\n",
    "        # Transform string into list\n",
    "        row[key_name] = row[key_name].split(',')\n",
    "        \n",
    "        # Remove elements with empty strings\n",
    "        row[key_name] = [el for el in row[key_name] if el != '']\n",
    "    \n",
    "    return row\n",
    "\n",
    "def preprocess_gdelt_gkg_tone(x):\n",
    "    res = dict()\n",
    "    res['tone'] = float(x[0])\n",
    "    res['positive_score'] = x[1]\n",
    "    res['negative_score'] = x[2]\n",
    "    res['polarity'] = x[3]\n",
    "    res['activity_reference_density'] = x[4]\n",
    "    res['group_reference_density'] = x[5]\n",
    "    return res\n",
    "\n",
    "def preprocess_gdelt_gkg_location(x):\n",
    "    res_list = []\n",
    "    # print(x)\n",
    "    for location in x:\n",
    "        x_split = location.split('#')\n",
    "        res = dict()\n",
    "        res['type'] = x_split[0]\n",
    "        res['full_name'] = x_split[1]\n",
    "        res['country_code'] = x_split[2]\n",
    "        res['adm1_code'] = x_split[3]\n",
    "        res['latitude'] = x_split[4]\n",
    "        res['longitude'] = x_split[5]\n",
    "        res['featureID'] = x_split[6]\n",
    "        res_list.append(res)\n",
    "        \n",
    "    return res_list"
   ]
  },
  {
   "cell_type": "code",
   "execution_count": 17,
   "metadata": {},
   "outputs": [],
   "source": [
    "# gdelt_gkg_preprocessed.head(5).transpose().sort_index()"
   ]
  },
  {
   "cell_type": "code",
   "execution_count": 18,
   "metadata": {},
   "outputs": [],
   "source": [
    "# gdelt_gkg_preprocessed['AllNames'].head(1)"
   ]
  },
  {
   "cell_type": "code",
   "execution_count": 19,
   "metadata": {},
   "outputs": [],
   "source": [
    "# gdelt_gkg_preprocessed_test['Locations'][0][0].split('#')"
   ]
  },
  {
   "cell_type": "code",
   "execution_count": 20,
   "metadata": {
    "scrolled": false
   },
   "outputs": [
    {
     "name": "stdout",
     "output_type": "stream",
     "text": [
      "Wall time: 1min 7s\n"
     ]
    }
   ],
   "source": [
    "%%time\n",
    "gdelt_gkg_preprocessed_test = gdelt_gkg_preprocessed.apply(lambda row: preprocess_gdelt_gkg_rows(row), axis=1)"
   ]
  },
  {
   "cell_type": "code",
   "execution_count": 21,
   "metadata": {},
   "outputs": [],
   "source": [
    "# gdelt_gkg.isnull().sum()"
   ]
  },
  {
   "cell_type": "code",
   "execution_count": 22,
   "metadata": {},
   "outputs": [
    {
     "name": "stdout",
     "output_type": "stream",
     "text": [
      "Wall time: 156 ms\n"
     ]
    }
   ],
   "source": [
    "%%time\n",
    "gdelt_gkg_preprocessed_test['V2Tone'] = gdelt_gkg_preprocessed_test['V2Tone'].apply(lambda x: preprocess_gdelt_gkg_tone(x))"
   ]
  },
  {
   "cell_type": "code",
   "execution_count": 23,
   "metadata": {},
   "outputs": [
    {
     "name": "stdout",
     "output_type": "stream",
     "text": [
      "Wall time: 402 ms\n"
     ]
    }
   ],
   "source": [
    "%%time\n",
    "gdelt_gkg_preprocessed_test['Locations'] = gdelt_gkg_preprocessed_test['Locations'].apply(lambda x: preprocess_gdelt_gkg_location(x))"
   ]
  },
  {
   "cell_type": "code",
   "execution_count": 24,
   "metadata": {
    "scrolled": false
   },
   "outputs": [
    {
     "name": "stdout",
     "output_type": "stream",
     "text": [
      "{'GKGRECORDID': '20150218230000-0',\n",
      " 'Locations': [{'adm1_code': 'HU05',\n",
      "                'country_code': 'RS',\n",
      "                'featureID': '-850553',\n",
      "                'full_name': 'Budapest, Budapest, Hungary',\n",
      "                'latitude': '47.5',\n",
      "                'longitude': '19.0833',\n",
      "                'type': '4'},\n",
      "               {'adm1_code': 'RS25',\n",
      "                'country_code': 'RS',\n",
      "                'featureID': '139814',\n",
      "                'full_name': \"Ogarevo, Kaluzhskaya Oblast', Russia\",\n",
      "                'latitude': '55.2031',\n",
      "                'longitude': '35.8328',\n",
      "                'type': '4'},\n",
      "               {'adm1_code': 'HU',\n",
      "                'country_code': 'RS',\n",
      "                'featureID': 'HU',\n",
      "                'full_name': 'Hungary',\n",
      "                'latitude': '47',\n",
      "                'longitude': '20',\n",
      "                'type': '1'},\n",
      "               {'adm1_code': 'RS55',\n",
      "                'country_code': 'RS',\n",
      "                'featureID': '-2993111',\n",
      "                'full_name': \"Rossiya, Orenburgskaya Oblast', Russia\",\n",
      "                'latitude': '52.4',\n",
      "                'longitude': '54.9833',\n",
      "                'type': '4'},\n",
      "               {'adm1_code': 'UP25',\n",
      "                'country_code': 'RS',\n",
      "                'featureID': '-1046268',\n",
      "                'full_name': \"Maydan, Zakarpats'ka Oblast', Ukraine\",\n",
      "                'latitude': '48.6031',\n",
      "                'longitude': '23.4741',\n",
      "                'type': '4'},\n",
      "               {'adm1_code': 'UP',\n",
      "                'country_code': 'RS',\n",
      "                'featureID': 'UP',\n",
      "                'full_name': 'Ukraine',\n",
      "                'latitude': '49',\n",
      "                'longitude': '32',\n",
      "                'type': '1'},\n",
      "               {'adm1_code': 'RS',\n",
      "                'country_code': 'RS',\n",
      "                'featureID': 'RS',\n",
      "                'full_name': 'Russia',\n",
      "                'latitude': '60',\n",
      "                'longitude': '100',\n",
      "                'type': '1'},\n",
      "               {'adm1_code': 'UP14',\n",
      "                'country_code': 'RS',\n",
      "                'featureID': '-1045160',\n",
      "                'full_name': \"Luhansk, Luhans'ka Oblast', Ukraine\",\n",
      "                'latitude': '48.567',\n",
      "                'longitude': '39.3171',\n",
      "                'type': '4'},\n",
      "               {'adm1_code': 'RS59',\n",
      "                'country_code': 'RS',\n",
      "                'featureID': '11462001',\n",
      "                'full_name': 'Novorossiya, Primorskiy Kray, Russia',\n",
      "                'latitude': '43.3427',\n",
      "                'longitude': '132.556',\n",
      "                'type': '4'}],\n",
      " 'Themes': ['TERROR',\n",
      "            'REBELS',\n",
      "            'TAX_ETHNICITY',\n",
      "            'TAX_ETHNICITY_UKRAINIAN',\n",
      "            'TAX_WORLDLANGUAGES',\n",
      "            'TAX_WORLDLANGUAGES_UKRAINIAN',\n",
      "            'LEADER',\n",
      "            'TAX_FNCACT',\n",
      "            'TAX_FNCACT_PRESIDENT',\n",
      "            'TAX_FNCACT_TROOPS',\n",
      "            'TAX_FNCACT_AUTHORITIES',\n",
      "            'TAX_ETHNICITY_RUSSIAN',\n",
      "            'TAX_WORLDLANGUAGES_RUSSIAN',\n",
      "            'MEDIA_MSM',\n",
      "            'TAX_WORLDLANGUAGES_RUSSIA',\n",
      "            'MANMADE_DISASTER_IMPLIED',\n",
      "            'TAX_WORLDFISH',\n",
      "            'TAX_WORLDFISH_TOP',\n",
      "            'TAX_FNCACT_OFFICIAL',\n",
      "            'TAX_FNCACT_CORRESPONDENT',\n",
      "            'MILITARY',\n",
      "            'TAX_FNCACT_SERVICEMEN',\n",
      "            'ARREST',\n",
      "            'TAX_MILITARY_TITLE',\n",
      "            'TAX_MILITARY_TITLE_SOLDIERS',\n",
      "            'TAX_FNCACT_SOLDIERS',\n",
      "            'GENERAL_HEALTH',\n",
      "            'MEDICAL',\n",
      "            'TAX_FNCACT_WOMEN',\n",
      "            'TAX_FNCACT_CHILDREN',\n",
      "            'KILL',\n",
      "            'TAX_FNCACT_DEPUTY',\n",
      "            'TAX_FNCACT_ANALYST',\n",
      "            'TAX_ETHNICITY_UKRAINIANS',\n",
      "            'TAX_WORLDLANGUAGES_UKRAINIANS',\n",
      "            'TAX_ETHNICITY_HUNGARIAN',\n",
      "            'TAX_WORLDLANGUAGES_HUNGARIAN',\n",
      "            'TAX_FNCACT_MINISTER',\n",
      "            'TAX_FNCACT_PRIME_MINISTER',\n",
      "            'TAX_FNCACT_MINERS',\n",
      "            'TAX_FNCACT_DRIVERS',\n",
      "            'GENERAL_GOVERNMENT',\n",
      "            'PUBLIC_TRANSPORT',\n",
      "            'ARMEDCONFLICT',\n",
      "            'REBELLION',\n",
      "            'TAX_FNCACT_PRESENTER',\n",
      "            'CORRUPTION',\n",
      "            'SELF_IDENTIFIED_HUMAN_RIGHTS',\n",
      "            'FREESPEECH',\n",
      "            'POLITICAL_PRISONER',\n",
      "            'PROTEST',\n",
      "            'MOVEMENT_GENERAL'],\n",
      " 'V2Tone': {'activity_reference_density': '21.2566844919786',\n",
      "            'group_reference_density': '0.53475935828877',\n",
      "            'negative_score': '7.48663101604278',\n",
      "            'polarity': '9.62566844919786',\n",
      "            'positive_score': '2.13903743315508',\n",
      "            'tone': -5.3475935828877}}\n"
     ]
    }
   ],
   "source": [
    "pprint(gdelt_gkg_preprocessed_test[['GKGRECORDID', 'Locations', 'Themes', 'V2Tone']].transpose().iloc[:,0].to_dict())"
   ]
  },
  {
   "cell_type": "markdown",
   "metadata": {},
   "source": [
    "# 2. Analyzing GDELT with MongoDB"
   ]
  },
  {
   "cell_type": "markdown",
   "metadata": {},
   "source": [
    "## 2.1. Bulk Insert Data into MongoDB"
   ]
  },
  {
   "cell_type": "code",
   "execution_count": 25,
   "metadata": {},
   "outputs": [],
   "source": [
    "LOCAL_HOST_SERVER = 'localhost:27017'\n",
    "mongo_client = mb.MongoClient(LOCAL_HOST_SERVER)"
   ]
  },
  {
   "cell_type": "code",
   "execution_count": 26,
   "metadata": {},
   "outputs": [],
   "source": [
    "msbd_database = mongo_client['MSBD_2019_2020']"
   ]
  },
  {
   "cell_type": "code",
   "execution_count": 27,
   "metadata": {},
   "outputs": [
    {
     "name": "stdout",
     "output_type": "stream",
     "text": [
      "Collection dropped.\n",
      "Collection dropped.\n"
     ]
    }
   ],
   "source": [
    "mb_gdelt_mentions = msbd_database['gdelt_mentions_events']\n",
    "mb_gdelt_gkg = msbd_database['gdelt_gkg']\n",
    "\n",
    "try:\n",
    "    _ = mb_gdelt_mentions.drop()\n",
    "    print('Collection dropped.')\n",
    "except:\n",
    "    print('Collection already dropped.')\n",
    "    \n",
    "try:\n",
    "    _ = mb_gdelt_gkg.drop()\n",
    "    print('Collection dropped.')\n",
    "except:\n",
    "    print('Collection already dropped.')\n",
    "    \n",
    "mb_gdelt_mentions = msbd_database['gdelt_mentions_events']\n",
    "mb_gdelt_gkg = msbd_database['gdelt_gkg']"
   ]
  },
  {
   "cell_type": "code",
   "execution_count": 28,
   "metadata": {},
   "outputs": [],
   "source": [
    "# gdelt_events_preprocessed['GLOBALEVENTID'].unique().shape[0] / gdelt_events_preprocessed.shape[0]"
   ]
  },
  {
   "cell_type": "code",
   "execution_count": 29,
   "metadata": {},
   "outputs": [
    {
     "name": "stdout",
     "output_type": "stream",
     "text": [
      "['enron_emails']\n"
     ]
    }
   ],
   "source": [
    "print(msbd_database.list_collection_names())"
   ]
  },
  {
   "cell_type": "code",
   "execution_count": 30,
   "metadata": {},
   "outputs": [
    {
     "name": "stdout",
     "output_type": "stream",
     "text": [
      "Wall time: 5.07 s\n"
     ]
    }
   ],
   "source": [
    "%%time\n",
    "pandas_to_mongo_data = gdelt_mentions_preprocessed.copy()\n",
    "pandas_to_mongo_data = pandas_to_mongo_data.fillna('')\n",
    "# pandas_to_mongo_data = pandas_to_mongo_data.rename(columns={'GLOBALEVENTID': '_id'})\n",
    "pandas_to_mongo_data = pandas_to_mongo_data.to_dict('records')"
   ]
  },
  {
   "cell_type": "code",
   "execution_count": 31,
   "metadata": {
    "scrolled": false
   },
   "outputs": [],
   "source": [
    "# pprint(pandas_to_mongo_data[0])"
   ]
  },
  {
   "cell_type": "code",
   "execution_count": 32,
   "metadata": {},
   "outputs": [],
   "source": [
    "_ = mb_gdelt_mentions.insert_many(pandas_to_mongo_data)"
   ]
  },
  {
   "cell_type": "code",
   "execution_count": 33,
   "metadata": {},
   "outputs": [
    {
     "name": "stdout",
     "output_type": "stream",
     "text": [
      "Wall time: 3.51 s\n"
     ]
    }
   ],
   "source": [
    "%%time\n",
    "pandas_to_mongo_data_gkg = gdelt_gkg_preprocessed_test.copy()\n",
    "# pandas_to_mongo_data_gkg = pandas_to_mongo_data_gkg.rename(columns={'GKGRECORDID': '_id'})\n",
    "pandas_to_mongo_data_gkg = pandas_to_mongo_data_gkg.to_dict('records')"
   ]
  },
  {
   "cell_type": "code",
   "execution_count": 34,
   "metadata": {},
   "outputs": [
    {
     "name": "stdout",
     "output_type": "stream",
     "text": [
      "Wall time: 1min 20s\n"
     ]
    }
   ],
   "source": [
    "%%time\n",
    "_ = mb_gdelt_gkg.insert_many(pandas_to_mongo_data_gkg)"
   ]
  },
  {
   "cell_type": "code",
   "execution_count": 35,
   "metadata": {},
   "outputs": [],
   "source": [
    "# for document in pandas_to_mongo_data_gkg:\n",
    "#     _ = mb_gdelt_gkg.insert_one(document)"
   ]
  },
  {
   "cell_type": "code",
   "execution_count": 36,
   "metadata": {},
   "outputs": [],
   "source": [
    "# gdelt_gkg_preprocessed_test[gdelt_gkg_preprocessed_test['GKGRECORDID'].duplicated(keep=False)].sort_values('GKGRECORDID')"
   ]
  },
  {
   "cell_type": "code",
   "execution_count": 37,
   "metadata": {},
   "outputs": [],
   "source": [
    "# pprint(pandas_to_mongo_data_gkg[2982])"
   ]
  },
  {
   "cell_type": "code",
   "execution_count": 38,
   "metadata": {},
   "outputs": [
    {
     "name": "stdout",
     "output_type": "stream",
     "text": [
      "76937\n",
      "36478\n"
     ]
    }
   ],
   "source": [
    "print(mb_gdelt_mentions.count_documents(filter={}))\n",
    "print(mb_gdelt_gkg.count_documents(filter={}))"
   ]
  },
  {
   "cell_type": "code",
   "execution_count": 41,
   "metadata": {},
   "outputs": [],
   "source": [
    "# gdelt_events_preprocessed[gdelt_events_preprocessed['GLOBALEVENTID']==410412359]['mentions'].tolist()"
   ]
  },
  {
   "cell_type": "code",
   "execution_count": 45,
   "metadata": {
    "scrolled": false
   },
   "outputs": [
    {
     "name": "stdout",
     "output_type": "stream",
     "text": [
      "{'ActionCharOffset': 4634,\n",
      " 'Actor1CharOffset': -1,\n",
      " 'Actor2CharOffset': 4594,\n",
      " 'Confidence': 50,\n",
      " 'EventTimeDate': 20150218230000,\n",
      " 'Extras': '',\n",
      " 'GLOBALEVENTID': 410412347,\n",
      " 'InRawText': 1,\n",
      " 'MentionDocLen': 6665,\n",
      " 'MentionDocOriginalLanguage': 'eng',\n",
      " 'MentionDocTone': -4.4776119402985,\n",
      " 'MentionDocTranslationInfo': '',\n",
      " 'MentionIdentifier': 'http://www.dailymaverick.co.za/article/2015-02-19-sona2015-jamming-state-security-agency-steps-forward-blames-low-ranking-operator/',\n",
      " 'MentionSourceName': 'dailymaverick.co.za',\n",
      " 'MentionTimeDate': 20150218230000,\n",
      " 'MentionType': 1,\n",
      " 'SentenceID': 19,\n",
      " '_id': ObjectId('5e26088acae47433c4415099'),\n",
      " 'events': {'ActionGeo_ADM1Code': 'SF03',\n",
      "            'ActionGeo_ADM2Code': '77359',\n",
      "            'ActionGeo_CountryCode': 'SF',\n",
      "            'ActionGeo_FeatureID': '-1299321',\n",
      "            'ActionGeo_FullName': 'Waterkloof, Free State, South Africa',\n",
      "            'ActionGeo_Lat': -30.3098,\n",
      "            'ActionGeo_Long': 25.2971,\n",
      "            'ActionGeo_Type': 4,\n",
      "            'Actor1Code': '',\n",
      "            'Actor1CountryCode': '',\n",
      "            'Actor1EthnicCode': '',\n",
      "            'Actor1Geo_ADM1Code': '',\n",
      "            'Actor1Geo_ADM2Code': '',\n",
      "            'Actor1Geo_CountryCode': '',\n",
      "            'Actor1Geo_FeatureID': '',\n",
      "            'Actor1Geo_FullName': '',\n",
      "            'Actor1Geo_Lat': '',\n",
      "            'Actor1Geo_Long': '',\n",
      "            'Actor1Geo_Type': 0,\n",
      "            'Actor1KnownGroupCode': '',\n",
      "            'Actor1Name': '',\n",
      "            'Actor1Religion1Code': '',\n",
      "            'Actor1Religion2Code': '',\n",
      "            'Actor1Type1Code': '',\n",
      "            'Actor1Type2Code': '',\n",
      "            'Actor1Type3Code': '',\n",
      "            'Actor2Code': 'GOV',\n",
      "            'Actor2CountryCode': '',\n",
      "            'Actor2EthnicCode': '',\n",
      "            'Actor2Geo_ADM1Code': 'SF03',\n",
      "            'Actor2Geo_ADM2Code': '77359',\n",
      "            'Actor2Geo_CountryCode': 'SF',\n",
      "            'Actor2Geo_FeatureID': '-1299321',\n",
      "            'Actor2Geo_FullName': 'Waterkloof, Free State, South Africa',\n",
      "            'Actor2Geo_Lat': -30.3098,\n",
      "            'Actor2Geo_Long': 25.2971,\n",
      "            'Actor2Geo_Type': 4,\n",
      "            'Actor2KnownGroupCode': '',\n",
      "            'Actor2Name': 'PRESIDENT',\n",
      "            'Actor2Religion1Code': '',\n",
      "            'Actor2Religion2Code': '',\n",
      "            'Actor2Type1Code': 'GOV',\n",
      "            'Actor2Type2Code': '',\n",
      "            'Actor2Type3Code': '',\n",
      "            'AvgTone': -4.4776119402985,\n",
      "            'DATEADDED': 20150218230000,\n",
      "            'EventBaseCode': 43,\n",
      "            'EventCode': 43,\n",
      "            'EventRootCode': 4,\n",
      "            'FractionDate': 2014.1315,\n",
      "            'GoldsteinScale': 2.8,\n",
      "            'IsRootEvent': 0,\n",
      "            'MonthYear': 201402,\n",
      "            'NumArticles': 5,\n",
      "            'NumMentions': 5,\n",
      "            'NumSources': 1,\n",
      "            'QuadClass': 1,\n",
      "            'SOURCEURL': 'http://www.dailymaverick.co.za/article/2015-02-19-sona2015-jamming-state-security-agency-steps-forward-blames-low-ranking-operator/',\n",
      "            'SQLDATE': 20140218,\n",
      "            'Year': 2014}}\n"
     ]
    }
   ],
   "source": [
    "pprint(mb_gdelt_mentions.find_one({}))"
   ]
  },
  {
   "cell_type": "code",
   "execution_count": 46,
   "metadata": {
    "scrolled": false
   },
   "outputs": [
    {
     "name": "stdout",
     "output_type": "stream",
     "text": [
      "{'activity_reference_density': '21.2566844919786',\n",
      " 'group_reference_density': '0.53475935828877',\n",
      " 'negative_score': '7.48663101604278',\n",
      " 'polarity': '9.62566844919786',\n",
      " 'positive_score': '2.13903743315508',\n",
      " 'tone': -5.3475935828877}\n"
     ]
    }
   ],
   "source": [
    "pprint(mb_gdelt_gkg.find_one({})['V2Tone'])"
   ]
  },
  {
   "cell_type": "markdown",
   "metadata": {},
   "source": [
    "## 2.2. GDELT Queries with MongoDB\n",
    "\n",
    "- [More complex aggregations in MongoDB](https://stackoverflow.com/questions/43448389/mongo-aggregate-sum-of-values-in-a-list-of-dictionaries-for-all-documents)\n",
    "- [Aggregate across multiple fields simultaneously](https://stackoverflow.com/questions/25843255/mongodb-aggregate-count-on-multiple-fields-simultaneously)\n",
    "\n",
    "**1. Afficher le nombre d’articles/évènements qu’il y a eu pour chaque triplet (jour, pays de l’évènement, langue de l’article).**"
   ]
  },
  {
   "cell_type": "code",
   "execution_count": 44,
   "metadata": {
    "scrolled": false
   },
   "outputs": [],
   "source": [
    "# test_unwind_query = [\n",
    "#     {'$unwind': '$mentions'},\n",
    "#     {'$match': {'_id': 410412359}}\n",
    "# ]\n",
    "\n",
    "# test_unwind = list(gdelt_db.aggregate(test_unwind_query))\n",
    "# test_unwind"
   ]
  },
  {
   "cell_type": "code",
   "execution_count": 62,
   "metadata": {},
   "outputs": [],
   "source": [
    "test = [len(doc) for doc in test_unwind]"
   ]
  },
  {
   "cell_type": "code",
   "execution_count": null,
   "metadata": {},
   "outputs": [],
   "source": []
  },
  {
   "cell_type": "code",
   "execution_count": null,
   "metadata": {},
   "outputs": [],
   "source": [
    "result_events_triplet = list(gdelt_db.aggregate(query_mb_events_triplet))"
   ]
  },
  {
   "cell_type": "code",
   "execution_count": 26,
   "metadata": {},
   "outputs": [
    {
     "name": "stdout",
     "output_type": "stream",
     "text": [
      "[{'$unwind': '$mentions'},\n",
      " {'$group': {'NbEvents': {'$sum': 1},\n",
      "             '_id': {'article_language': '$mentions.MentionDocOriginalLanguage',\n",
      "                     'date': '$SQLDATE',\n",
      "                     'event_country': '$ActionGeo_CountryCode'}}}]\n"
     ]
    }
   ],
   "source": [
    "query_mb_events_triplet = [\n",
    "    {'$unwind': '$mentions'},\n",
    "    {'$group': {'_id': {'date':'$SQLDATE',\n",
    "                        'event_country': '$ActionGeo_CountryCode',\n",
    "                        'article_language': '$mentions.MentionDocOriginalLanguage'},\n",
    "                'NbEvents': {'$sum': 1}}\n",
    "    }\n",
    "]\n",
    "pprint(query_mb_events_triplet)"
   ]
  },
  {
   "cell_type": "code",
   "execution_count": 27,
   "metadata": {},
   "outputs": [],
   "source": [
    "result_events_triplet = list(gdelt_db.aggregate(query_mb_events_triplet))"
   ]
  },
  {
   "cell_type": "code",
   "execution_count": 28,
   "metadata": {},
   "outputs": [
    {
     "data": {
      "text/plain": [
       "1428"
      ]
     },
     "execution_count": 28,
     "metadata": {},
     "output_type": "execute_result"
    }
   ],
   "source": [
    "len(result_events_triplet)"
   ]
  },
  {
   "cell_type": "code",
   "execution_count": 34,
   "metadata": {},
   "outputs": [
    {
     "name": "stdout",
     "output_type": "stream",
     "text": [
      "[{'NbEvents': 2,\n",
      "  '_id': {'article_language': 'rus', 'date': 20150217, 'event_country': 'RS'}},\n",
      " {'NbEvents': 67,\n",
      "  '_id': {'article_language': 'eng', 'date': 20150218, 'event_country': 'GM'}},\n",
      " {'NbEvents': 60,\n",
      "  '_id': {'article_language': 'spa', 'date': 20150219, 'event_country': 'SW'}},\n",
      " {'NbEvents': 4,\n",
      "  '_id': {'article_language': 'lit', 'date': 20150218, 'event_country': 'LG'}},\n",
      " {'NbEvents': 127,\n",
      "  '_id': {'article_language': 'ara', 'date': 20150219, 'event_country': 'SY'}},\n",
      " {'NbEvents': 5,\n",
      "  '_id': {'article_language': 'spa', 'date': 20150218, 'event_country': 'ES'}},\n",
      " {'NbEvents': 5,\n",
      "  '_id': {'article_language': 'eng', 'date': 20150219, 'event_country': 'LA'}},\n",
      " {'NbEvents': 3,\n",
      "  '_id': {'article_language': 'ron', 'date': 20150218, 'event_country': 'US'}},\n",
      " {'NbEvents': 1,\n",
      "  '_id': {'article_language': 'rus', 'date': 20150218, 'event_country': 'LH'}},\n",
      " {'NbEvents': 58,\n",
      "  '_id': {'article_language': 'eng', 'date': 20150219, 'event_country': 'MY'}}]\n"
     ]
    }
   ],
   "source": [
    "pprint(result_events_triplet[:10])"
   ]
  },
  {
   "cell_type": "markdown",
   "metadata": {},
   "source": [
    "**2. Pour un pays donné en paramètre, affichez les évènements qui y ont eu place triées par le nombre de mentions (tri décroissant); permettez une agrégation par jour/mois/année.**"
   ]
  },
  {
   "cell_type": "code",
   "execution_count": null,
   "metadata": {},
   "outputs": [],
   "source": []
  },
  {
   "cell_type": "markdown",
   "metadata": {},
   "source": [
    "**3. Pour une source de données passée en paramètre (gkg.SourceCommonName) affichez les thèmes, personnes, lieux dont les articles de cette sources parlent ainsi que le le nombre d’articles et le ton moyen des articles (pour chaque thème/personne/lieu); permettez une agrégation par jour/mois/année**"
   ]
  },
  {
   "cell_type": "code",
   "execution_count": null,
   "metadata": {},
   "outputs": [],
   "source": []
  },
  {
   "cell_type": "markdown",
   "metadata": {},
   "source": [
    "**4. Dresser la cartographie des relations entre les pays d’après le ton des articles : pour chaque paire (pays1, pays2), calculer le nombre d’article, le ton moyen (aggrégations sur Année/Mois/Jour, filtrage par pays ou carré de coordonnées).**"
   ]
  },
  {
   "cell_type": "code",
   "execution_count": null,
   "metadata": {},
   "outputs": [],
   "source": []
  }
 ],
 "metadata": {
  "kernelspec": {
   "display_name": "Python 3",
   "language": "python",
   "name": "python3"
  },
  "language_info": {
   "codemirror_mode": {
    "name": "ipython",
    "version": 3
   },
   "file_extension": ".py",
   "mimetype": "text/x-python",
   "name": "python",
   "nbconvert_exporter": "python",
   "pygments_lexer": "ipython3",
   "version": "3.6.4"
  },
  "toc": {
   "base_numbering": 1,
   "nav_menu": {},
   "number_sections": true,
   "sideBar": true,
   "skip_h1_title": false,
   "title_cell": "Table of Contents",
   "title_sidebar": "Contents",
   "toc_cell": false,
   "toc_position": {},
   "toc_section_display": true,
   "toc_window_display": false
  }
 },
 "nbformat": 4,
 "nbformat_minor": 2
}
