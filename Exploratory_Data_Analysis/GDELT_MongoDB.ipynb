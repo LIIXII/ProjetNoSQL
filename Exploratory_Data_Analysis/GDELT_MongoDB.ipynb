{
 "cells": [
  {
   "cell_type": "markdown",
   "metadata": {},
   "source": [
    "**GDELT MongoDB**"
   ]
  },
  {
   "cell_type": "code",
   "execution_count": 1,
   "metadata": {},
   "outputs": [],
   "source": [
    "import numpy as np\n",
    "import matplotlib.pyplot as plt\n",
    "import pandas as pd\n",
    "import pymongo\n",
    "plt.style.use('fivethirtyeight')\n",
    "from pprint import pprint"
   ]
  },
  {
   "cell_type": "markdown",
   "metadata": {},
   "source": [
    "**Setup MongoDB**"
   ]
  },
  {
   "cell_type": "code",
   "execution_count": 2,
   "metadata": {},
   "outputs": [],
   "source": [
    "LOCAL_HOST_SERVER = ''\n",
    "mongo_client = pymongo.MongoClient(LOCAL_HOST_SERVER)"
   ]
  },
  {
   "cell_type": "code",
   "execution_count": 3,
   "metadata": {},
   "outputs": [
    {
     "data": {
      "text/plain": [
       "['MSBD_2019_2020', 'admin', 'config', 'local']"
      ]
     },
     "execution_count": 3,
     "metadata": {},
     "output_type": "execute_result"
    }
   ],
   "source": [
    "mongo_client.list_database_names()"
   ]
  },
  {
   "cell_type": "markdown",
   "metadata": {},
   "source": [
    "# GDELT Data Preprocessing\n",
    "\n",
    "**TODO in Spark with Scala**\n",
    "\n",
    "1. gdelt_events:\n",
    "    - Checks on variable types\n",
    "2. gdelt_mentions:\n",
    "    - Reduce DataFrame to 2 columns *GLOBALEVENTID* (for merge with gdelt_events) and *mentions* (the rest)\n",
    "    - Checks on variable types\n",
    "    - Create column for language of article / mention\n",
    "3. gdelt_gkg:\n",
    "    - Transfomring columns with poorly formated lists into dictionnaries\n",
    "    - Checks on variable types"
   ]
  },
  {
   "cell_type": "code",
   "execution_count": 10,
   "metadata": {},
   "outputs": [
    {
     "name": "stderr",
     "output_type": "stream",
     "text": [
      "C:\\Anaconda\\lib\\site-packages\\IPython\\core\\interactiveshell.py:2728: DtypeWarning: Columns (15) have mixed types. Specify dtype option on import or set low_memory=False.\n",
      "  interactivity=interactivity, compiler=compiler, result=result)\n",
      "C:\\Anaconda\\lib\\site-packages\\IPython\\core\\interactiveshell.py:2728: DtypeWarning: Columns (23) have mixed types. Specify dtype option on import or set low_memory=False.\n",
      "  interactivity=interactivity, compiler=compiler, result=result)\n"
     ]
    }
   ],
   "source": [
    "gdelt_events = pd.read_csv('test_local_gdelt_events.csv', index_col=0)\n",
    "gdelt_mentions = pd.read_csv('test_local_gdelt_mentions.csv', index_col=0)\n",
    "gdelt_gkg = pd.read_csv('test_local_gdelt_gkg.csv', index_col=0)"
   ]
  },
  {
   "cell_type": "markdown",
   "metadata": {},
   "source": [
    "## GDELT Mentions"
   ]
  },
  {
   "cell_type": "code",
   "execution_count": 16,
   "metadata": {
    "scrolled": true
   },
   "outputs": [
    {
     "data": {
      "text/html": [
       "<div>\n",
       "<style scoped>\n",
       "    .dataframe tbody tr th:only-of-type {\n",
       "        vertical-align: middle;\n",
       "    }\n",
       "\n",
       "    .dataframe tbody tr th {\n",
       "        vertical-align: top;\n",
       "    }\n",
       "\n",
       "    .dataframe thead th {\n",
       "        text-align: right;\n",
       "    }\n",
       "</style>\n",
       "<table border=\"1\" class=\"dataframe\">\n",
       "  <thead>\n",
       "    <tr style=\"text-align: right;\">\n",
       "      <th></th>\n",
       "      <th>GLOBALEVENTID</th>\n",
       "      <th>EventTimeDate</th>\n",
       "      <th>MentionTimeDate</th>\n",
       "      <th>MentionType</th>\n",
       "      <th>MentionSourceName</th>\n",
       "      <th>MentionIdentifier</th>\n",
       "      <th>SentenceID</th>\n",
       "      <th>Actor1CharOffset</th>\n",
       "      <th>Actor2CharOffset</th>\n",
       "      <th>ActionCharOffset</th>\n",
       "      <th>InRawText</th>\n",
       "      <th>Confidence</th>\n",
       "      <th>MentionDocLen</th>\n",
       "      <th>MentionDocTone</th>\n",
       "      <th>MentionDocTranslationInfo</th>\n",
       "      <th>Extras</th>\n",
       "      <th>MentionDocOriginalLanguage</th>\n",
       "    </tr>\n",
       "  </thead>\n",
       "  <tbody>\n",
       "    <tr>\n",
       "      <th>0</th>\n",
       "      <td>410412347</td>\n",
       "      <td>20150218230000</td>\n",
       "      <td>20150218230000</td>\n",
       "      <td>1</td>\n",
       "      <td>dailymaverick.co.za</td>\n",
       "      <td>http://www.dailymaverick.co.za/article/2015-02...</td>\n",
       "      <td>19</td>\n",
       "      <td>-1</td>\n",
       "      <td>4594</td>\n",
       "      <td>4634</td>\n",
       "      <td>1</td>\n",
       "      <td>50</td>\n",
       "      <td>6665</td>\n",
       "      <td>-4.477612</td>\n",
       "      <td>NaN</td>\n",
       "      <td>NaN</td>\n",
       "      <td>eng</td>\n",
       "    </tr>\n",
       "    <tr>\n",
       "      <th>1</th>\n",
       "      <td>410412348</td>\n",
       "      <td>20150218230000</td>\n",
       "      <td>20150218230000</td>\n",
       "      <td>1</td>\n",
       "      <td>indiatimes.com</td>\n",
       "      <td>http://timesofindia.indiatimes.com/city/bengal...</td>\n",
       "      <td>2</td>\n",
       "      <td>-1</td>\n",
       "      <td>300</td>\n",
       "      <td>344</td>\n",
       "      <td>1</td>\n",
       "      <td>50</td>\n",
       "      <td>2541</td>\n",
       "      <td>2.078522</td>\n",
       "      <td>NaN</td>\n",
       "      <td>NaN</td>\n",
       "      <td>eng</td>\n",
       "    </tr>\n",
       "    <tr>\n",
       "      <th>2</th>\n",
       "      <td>410412349</td>\n",
       "      <td>20150218230000</td>\n",
       "      <td>20150218230000</td>\n",
       "      <td>1</td>\n",
       "      <td>voxy.co.nz</td>\n",
       "      <td>http://www.voxy.co.nz/entertainment/coast-new-...</td>\n",
       "      <td>4</td>\n",
       "      <td>-1</td>\n",
       "      <td>1297</td>\n",
       "      <td>1232</td>\n",
       "      <td>0</td>\n",
       "      <td>10</td>\n",
       "      <td>2576</td>\n",
       "      <td>7.517084</td>\n",
       "      <td>NaN</td>\n",
       "      <td>NaN</td>\n",
       "      <td>eng</td>\n",
       "    </tr>\n",
       "    <tr>\n",
       "      <th>3</th>\n",
       "      <td>410412350</td>\n",
       "      <td>20150218230000</td>\n",
       "      <td>20150218230000</td>\n",
       "      <td>1</td>\n",
       "      <td>voxy.co.nz</td>\n",
       "      <td>http://www.voxy.co.nz/entertainment/coast-new-...</td>\n",
       "      <td>4</td>\n",
       "      <td>-1</td>\n",
       "      <td>1298</td>\n",
       "      <td>1233</td>\n",
       "      <td>1</td>\n",
       "      <td>20</td>\n",
       "      <td>2576</td>\n",
       "      <td>7.517084</td>\n",
       "      <td>NaN</td>\n",
       "      <td>NaN</td>\n",
       "      <td>eng</td>\n",
       "    </tr>\n",
       "    <tr>\n",
       "      <th>4</th>\n",
       "      <td>410412351</td>\n",
       "      <td>20150218230000</td>\n",
       "      <td>20150218230000</td>\n",
       "      <td>1</td>\n",
       "      <td>eastidahonews.com</td>\n",
       "      <td>http://www.eastidahonews.com/2015/02/neil-patr...</td>\n",
       "      <td>1</td>\n",
       "      <td>-1</td>\n",
       "      <td>103</td>\n",
       "      <td>122</td>\n",
       "      <td>1</td>\n",
       "      <td>100</td>\n",
       "      <td>1432</td>\n",
       "      <td>0.000000</td>\n",
       "      <td>NaN</td>\n",
       "      <td>NaN</td>\n",
       "      <td>eng</td>\n",
       "    </tr>\n",
       "  </tbody>\n",
       "</table>\n",
       "</div>"
      ],
      "text/plain": [
       "   GLOBALEVENTID   EventTimeDate  MentionTimeDate  MentionType  \\\n",
       "0      410412347  20150218230000   20150218230000            1   \n",
       "1      410412348  20150218230000   20150218230000            1   \n",
       "2      410412349  20150218230000   20150218230000            1   \n",
       "3      410412350  20150218230000   20150218230000            1   \n",
       "4      410412351  20150218230000   20150218230000            1   \n",
       "\n",
       "     MentionSourceName                                  MentionIdentifier  \\\n",
       "0  dailymaverick.co.za  http://www.dailymaverick.co.za/article/2015-02...   \n",
       "1       indiatimes.com  http://timesofindia.indiatimes.com/city/bengal...   \n",
       "2           voxy.co.nz  http://www.voxy.co.nz/entertainment/coast-new-...   \n",
       "3           voxy.co.nz  http://www.voxy.co.nz/entertainment/coast-new-...   \n",
       "4    eastidahonews.com  http://www.eastidahonews.com/2015/02/neil-patr...   \n",
       "\n",
       "   SentenceID  Actor1CharOffset  Actor2CharOffset  ActionCharOffset  \\\n",
       "0          19                -1              4594              4634   \n",
       "1           2                -1               300               344   \n",
       "2           4                -1              1297              1232   \n",
       "3           4                -1              1298              1233   \n",
       "4           1                -1               103               122   \n",
       "\n",
       "   InRawText  Confidence  MentionDocLen  MentionDocTone  \\\n",
       "0          1          50           6665       -4.477612   \n",
       "1          1          50           2541        2.078522   \n",
       "2          0          10           2576        7.517084   \n",
       "3          1          20           2576        7.517084   \n",
       "4          1         100           1432        0.000000   \n",
       "\n",
       "  MentionDocTranslationInfo  Extras MentionDocOriginalLanguage  \n",
       "0                       NaN     NaN                        eng  \n",
       "1                       NaN     NaN                        eng  \n",
       "2                       NaN     NaN                        eng  \n",
       "3                       NaN     NaN                        eng  \n",
       "4                       NaN     NaN                        eng  "
      ]
     },
     "execution_count": 16,
     "metadata": {},
     "output_type": "execute_result"
    }
   ],
   "source": [
    "gdelt_mentions.head()"
   ]
  },
  {
   "cell_type": "code",
   "execution_count": 17,
   "metadata": {},
   "outputs": [
    {
     "name": "stderr",
     "output_type": "stream",
     "text": [
      "C:\\Anaconda\\lib\\site-packages\\ipykernel_launcher.py:2: SettingWithCopyWarning: \n",
      "A value is trying to be set on a copy of a slice from a DataFrame.\n",
      "Try using .loc[row_indexer,col_indexer] = value instead\n",
      "\n",
      "See the caveats in the documentation: http://pandas.pydata.org/pandas-docs/stable/indexing.html#indexing-view-versus-copy\n",
      "  \n"
     ]
    }
   ],
   "source": [
    "gdelt_mentions_processed = gdelt_mentions[['GLOBALEVENTID']]\n",
    "gdelt_mentions_processed['mentions'] = gdelt_mentions.drop('GLOBALEVENTID', axis=1).to_dict(orient='records')"
   ]
  },
  {
   "cell_type": "code",
   "execution_count": 18,
   "metadata": {},
   "outputs": [
    {
     "data": {
      "text/html": [
       "<div>\n",
       "<style scoped>\n",
       "    .dataframe tbody tr th:only-of-type {\n",
       "        vertical-align: middle;\n",
       "    }\n",
       "\n",
       "    .dataframe tbody tr th {\n",
       "        vertical-align: top;\n",
       "    }\n",
       "\n",
       "    .dataframe thead th {\n",
       "        text-align: right;\n",
       "    }\n",
       "</style>\n",
       "<table border=\"1\" class=\"dataframe\">\n",
       "  <thead>\n",
       "    <tr style=\"text-align: right;\">\n",
       "      <th></th>\n",
       "      <th>GLOBALEVENTID</th>\n",
       "      <th>mentions</th>\n",
       "    </tr>\n",
       "  </thead>\n",
       "  <tbody>\n",
       "    <tr>\n",
       "      <th>0</th>\n",
       "      <td>410412347</td>\n",
       "      <td>{'EventTimeDate': 20150218230000, 'MentionTime...</td>\n",
       "    </tr>\n",
       "    <tr>\n",
       "      <th>1</th>\n",
       "      <td>410412348</td>\n",
       "      <td>{'EventTimeDate': 20150218230000, 'MentionTime...</td>\n",
       "    </tr>\n",
       "    <tr>\n",
       "      <th>2</th>\n",
       "      <td>410412349</td>\n",
       "      <td>{'EventTimeDate': 20150218230000, 'MentionTime...</td>\n",
       "    </tr>\n",
       "    <tr>\n",
       "      <th>3</th>\n",
       "      <td>410412350</td>\n",
       "      <td>{'EventTimeDate': 20150218230000, 'MentionTime...</td>\n",
       "    </tr>\n",
       "    <tr>\n",
       "      <th>4</th>\n",
       "      <td>410412351</td>\n",
       "      <td>{'EventTimeDate': 20150218230000, 'MentionTime...</td>\n",
       "    </tr>\n",
       "  </tbody>\n",
       "</table>\n",
       "</div>"
      ],
      "text/plain": [
       "   GLOBALEVENTID                                           mentions\n",
       "0      410412347  {'EventTimeDate': 20150218230000, 'MentionTime...\n",
       "1      410412348  {'EventTimeDate': 20150218230000, 'MentionTime...\n",
       "2      410412349  {'EventTimeDate': 20150218230000, 'MentionTime...\n",
       "3      410412350  {'EventTimeDate': 20150218230000, 'MentionTime...\n",
       "4      410412351  {'EventTimeDate': 20150218230000, 'MentionTime..."
      ]
     },
     "execution_count": 18,
     "metadata": {},
     "output_type": "execute_result"
    }
   ],
   "source": [
    "gdelt_mentions_processed.head()"
   ]
  },
  {
   "cell_type": "code",
   "execution_count": 13,
   "metadata": {},
   "outputs": [
    {
     "data": {
      "text/html": [
       "<div>\n",
       "<style scoped>\n",
       "    .dataframe tbody tr th:only-of-type {\n",
       "        vertical-align: middle;\n",
       "    }\n",
       "\n",
       "    .dataframe tbody tr th {\n",
       "        vertical-align: top;\n",
       "    }\n",
       "\n",
       "    .dataframe thead th {\n",
       "        text-align: right;\n",
       "    }\n",
       "</style>\n",
       "<table border=\"1\" class=\"dataframe\">\n",
       "  <thead>\n",
       "    <tr style=\"text-align: right;\">\n",
       "      <th></th>\n",
       "      <th>GLOBALEVENTID</th>\n",
       "      <th>mentions</th>\n",
       "    </tr>\n",
       "  </thead>\n",
       "  <tbody>\n",
       "    <tr>\n",
       "      <th>0</th>\n",
       "      <td>403685556</td>\n",
       "      <td>[{'EventTimeDate': 20150119000000, 'MentionTim...</td>\n",
       "    </tr>\n",
       "    <tr>\n",
       "      <th>1</th>\n",
       "      <td>403686013</td>\n",
       "      <td>[{'EventTimeDate': 20150119000000, 'MentionTim...</td>\n",
       "    </tr>\n",
       "    <tr>\n",
       "      <th>2</th>\n",
       "      <td>403688003</td>\n",
       "      <td>[{'EventTimeDate': 20150119000000, 'MentionTim...</td>\n",
       "    </tr>\n",
       "    <tr>\n",
       "      <th>3</th>\n",
       "      <td>403688601</td>\n",
       "      <td>[{'EventTimeDate': 20150119001500, 'MentionTim...</td>\n",
       "    </tr>\n",
       "    <tr>\n",
       "      <th>4</th>\n",
       "      <td>403692727</td>\n",
       "      <td>[{'EventTimeDate': 20150119003000, 'MentionTim...</td>\n",
       "    </tr>\n",
       "  </tbody>\n",
       "</table>\n",
       "</div>"
      ],
      "text/plain": [
       "   GLOBALEVENTID                                           mentions\n",
       "0      403685556  [{'EventTimeDate': 20150119000000, 'MentionTim...\n",
       "1      403686013  [{'EventTimeDate': 20150119000000, 'MentionTim...\n",
       "2      403688003  [{'EventTimeDate': 20150119000000, 'MentionTim...\n",
       "3      403688601  [{'EventTimeDate': 20150119001500, 'MentionTim...\n",
       "4      403692727  [{'EventTimeDate': 20150119003000, 'MentionTim..."
      ]
     },
     "execution_count": 13,
     "metadata": {},
     "output_type": "execute_result"
    }
   ],
   "source": [
    "gdelt_mentions_processed_bis = gdelt_mentions_processed.groupby('GLOBALEVENTID')['mentions'].apply(list)\n",
    "gdelt_mentions_processed_bis = gdelt_mentions_processed_bis.reset_index()\n",
    "gdelt_mentions_processed_bis.head()"
   ]
  },
  {
   "cell_type": "markdown",
   "metadata": {},
   "source": [
    "## GDELT Events"
   ]
  },
  {
   "cell_type": "code",
   "execution_count": 14,
   "metadata": {},
   "outputs": [
    {
     "name": "stdout",
     "output_type": "stream",
     "text": [
      "(29319, 61)\n",
      "(29319, 62)\n"
     ]
    }
   ],
   "source": [
    "gdelt_events_preprocessed = gdelt_events.merge(gdelt_mentions_processed_bis, on='GLOBALEVENTID', how='left')\n",
    "print(gdelt_events.shape)\n",
    "print(gdelt_events_preprocessed.shape)"
   ]
  },
  {
   "cell_type": "code",
   "execution_count": 15,
   "metadata": {},
   "outputs": [
    {
     "data": {
      "text/html": [
       "<div>\n",
       "<style scoped>\n",
       "    .dataframe tbody tr th:only-of-type {\n",
       "        vertical-align: middle;\n",
       "    }\n",
       "\n",
       "    .dataframe tbody tr th {\n",
       "        vertical-align: top;\n",
       "    }\n",
       "\n",
       "    .dataframe thead th {\n",
       "        text-align: right;\n",
       "    }\n",
       "</style>\n",
       "<table border=\"1\" class=\"dataframe\">\n",
       "  <thead>\n",
       "    <tr style=\"text-align: right;\">\n",
       "      <th></th>\n",
       "      <th>GLOBALEVENTID</th>\n",
       "      <th>SQLDATE</th>\n",
       "      <th>ActionGeo_CountryCode</th>\n",
       "      <th>mentions</th>\n",
       "    </tr>\n",
       "  </thead>\n",
       "  <tbody>\n",
       "    <tr>\n",
       "      <th>0</th>\n",
       "      <td>410412347</td>\n",
       "      <td>20140218</td>\n",
       "      <td>SF</td>\n",
       "      <td>[{'EventTimeDate': 20150218230000, 'MentionTim...</td>\n",
       "    </tr>\n",
       "    <tr>\n",
       "      <th>1</th>\n",
       "      <td>410412348</td>\n",
       "      <td>20140218</td>\n",
       "      <td>IN</td>\n",
       "      <td>[{'EventTimeDate': 20150218230000, 'MentionTim...</td>\n",
       "    </tr>\n",
       "    <tr>\n",
       "      <th>2</th>\n",
       "      <td>410412349</td>\n",
       "      <td>20140218</td>\n",
       "      <td>AS</td>\n",
       "      <td>[{'EventTimeDate': 20150218230000, 'MentionTim...</td>\n",
       "    </tr>\n",
       "    <tr>\n",
       "      <th>3</th>\n",
       "      <td>410412350</td>\n",
       "      <td>20140218</td>\n",
       "      <td>NZ</td>\n",
       "      <td>[{'EventTimeDate': 20150218230000, 'MentionTim...</td>\n",
       "    </tr>\n",
       "    <tr>\n",
       "      <th>4</th>\n",
       "      <td>410412351</td>\n",
       "      <td>20140218</td>\n",
       "      <td>US</td>\n",
       "      <td>[{'EventTimeDate': 20150218230000, 'MentionTim...</td>\n",
       "    </tr>\n",
       "  </tbody>\n",
       "</table>\n",
       "</div>"
      ],
      "text/plain": [
       "   GLOBALEVENTID   SQLDATE ActionGeo_CountryCode  \\\n",
       "0      410412347  20140218                    SF   \n",
       "1      410412348  20140218                    IN   \n",
       "2      410412349  20140218                    AS   \n",
       "3      410412350  20140218                    NZ   \n",
       "4      410412351  20140218                    US   \n",
       "\n",
       "                                            mentions  \n",
       "0  [{'EventTimeDate': 20150218230000, 'MentionTim...  \n",
       "1  [{'EventTimeDate': 20150218230000, 'MentionTim...  \n",
       "2  [{'EventTimeDate': 20150218230000, 'MentionTim...  \n",
       "3  [{'EventTimeDate': 20150218230000, 'MentionTim...  \n",
       "4  [{'EventTimeDate': 20150218230000, 'MentionTim...  "
      ]
     },
     "execution_count": 15,
     "metadata": {},
     "output_type": "execute_result"
    }
   ],
   "source": [
    "gdelt_events_preprocessed[['GLOBALEVENTID', 'SQLDATE', 'ActionGeo_CountryCode', 'mentions']].head()"
   ]
  },
  {
   "cell_type": "markdown",
   "metadata": {},
   "source": [
    "## GDELT GKG\n",
    "\n",
    "Columns to format from string to list:\n",
    "\n",
    "- AllNames\n",
    "- Amounts\n",
    "- Counts\n",
    "- GCAM\n",
    "- Locations"
   ]
  },
  {
   "cell_type": "code",
   "execution_count": 19,
   "metadata": {
    "scrolled": true
   },
   "outputs": [],
   "source": [
    "# pprint(gdelt_gkg.transpose().iloc[:,0].to_dict()[''])"
   ]
  },
  {
   "cell_type": "markdown",
   "metadata": {},
   "source": [
    "# Insert GDELT"
   ]
  },
  {
   "cell_type": "code",
   "execution_count": null,
   "metadata": {},
   "outputs": [],
   "source": []
  }
 ],
 "metadata": {
  "kernelspec": {
   "display_name": "Python 3",
   "language": "python",
   "name": "python3"
  },
  "language_info": {
   "codemirror_mode": {
    "name": "ipython",
    "version": 3
   },
   "file_extension": ".py",
   "mimetype": "text/x-python",
   "name": "python",
   "nbconvert_exporter": "python",
   "pygments_lexer": "ipython3",
   "version": "3.6.4"
  },
  "toc": {
   "base_numbering": 1,
   "nav_menu": {},
   "number_sections": true,
   "sideBar": true,
   "skip_h1_title": false,
   "title_cell": "Table of Contents",
   "title_sidebar": "Contents",
   "toc_cell": false,
   "toc_position": {},
   "toc_section_display": true,
   "toc_window_display": false
  }
 },
 "nbformat": 4,
 "nbformat_minor": 2
}
